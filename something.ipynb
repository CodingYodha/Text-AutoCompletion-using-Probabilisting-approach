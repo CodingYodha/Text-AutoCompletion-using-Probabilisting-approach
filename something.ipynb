{
 "cells": [
  {
   "cell_type": "code",
   "execution_count": 21,
   "metadata": {},
   "outputs": [
    {
     "name": "stdout",
     "output_type": "stream",
     "text": [
      "['hello', 'hows', 'the', 'weather']\n"
     ]
    }
   ],
   "source": [
    "import re\n",
    "def preprocess(text):\n",
    "    text = text.lower()\n",
    "    text = re.sub(r'[^\\w\\s]', '', text) #keep words/numbers/whitespace\n",
    "    return text.split()\n",
    "\n",
    "#test preprocessing\n",
    "print(preprocess(\"Hello! How's the weather?\"))"
   ]
  },
  {
   "cell_type": "code",
   "execution_count": null,
   "metadata": {},
   "outputs": [],
   "source": [
    "import re\n",
    "from collections import defaultdict\n",
    "from preprocess import preprocess\n",
    "\n",
    "class NGramModel:\n",
    "    def __init__(self, n=3):\n",
    "        self.n = n\n",
    "        self.ngrams = defaultdict(lambda: defaultdict(int))\n",
    "        self.vocab = set()\n",
    "\n",
    "    def train(self, corpus):\n",
    "        #collect n-grams and vocabulary\n",
    "        print(f\"Training on {len(corpus)} sentences...\")\n",
    "        for sentence in corpus:\n",
    "            tokens = preprocess(sentence)\n",
    "            if not tokens:\n",
    "                continue\n",
    "            self.vocab.update(tokens)\n",
    "            print(f\"Processing sentence: {tokens}\")  # Debug\n",
    "\n",
    "            for i in range(len(tokens)-self.n+1):\n",
    "                context = tuple(tokens[i:i+self.n-1])\n",
    "                next_word = tokens[i+self.n-1]\n",
    "                self.ngrams[context][next_word]+=1\n",
    "                print(f\"Added n-gram: {context} -> {next_word}\")  # Debug\n",
    "\n",
    "        #add laplace smoothing\n",
    "        self._apply_smoothing()\n",
    "        print(f\"Vocabulary size: {len(self.vocab)}\")\n",
    "        print(f\"Total contexts: {len(self.ngrams)}\")\n",
    "\n",
    "    def _apply_smoothing(self, alpha=0.1):\n",
    "        vocab_size = len(self.vocab)\n",
    "        for context in self.ngrams:\n",
    "            total = sum(self.ngrams[context].values())+alpha*vocab_size\n",
    "            for word in self.vocab:\n",
    "                self.ngrams[context][word] = (self.ngrams[context].get(word, 0) + alpha)/total\n",
    "\n",
    "    def prune_model(self, min_count=2):\n",
    "        for context in list(self.ngrams.keys()):\n",
    "            self.ngrams[context] = {\n",
    "                k: v for k, v in self.ngrams[context].items() \n",
    "                if v >= min_count\n",
    "            }\n",
    "            if not self.ngrams[context]:\n",
    "                del self.ngrams[context]\n",
    "\n",
    "\n",
    "    #enhanced prediction with backoff\n",
    "    def predict(self, text, top_k=3):\n",
    "        tokens = preprocess(text)\n",
    "        print(f\"Input tokens: {tokens}\")  # Debug\n",
    "\n",
    "        # Handle context window\n",
    "        context = tuple(tokens[-(self.n-1):]) if len(tokens) >= self.n-1 else tuple(tokens)\n",
    "        print(f\"Initial context: {context}\")  # Debug\n",
    "\n",
    "\n",
    "        #backoff mechanism\n",
    "        while len(context)>0:\n",
    "            if context in self.ngrams:\n",
    "                suggestions = sorted(self.ngrams[context].items(),key=lambda x: -x[1])[:top_k]\n",
    "                return [word for word, prob in suggestions]\n",
    "            context = context[1:] if len(context) > 1 else tuple()\n",
    "        print(f\"Backing off to: {context}\")  # Debug\n",
    "        #remove oldest word for backoff\n",
    "            \n",
    "        \n",
    "        #final fallback to unigrams (most common words)\n",
    "# Final fallback to most common words\n",
    "        common_words = sorted(self.vocab, \n",
    "                            key=lambda x: sum(m[x] for m in self.ngrams.values()),\n",
    "                            reverse=True)[:top_k]\n",
    "        return common_words"
   ]
  },
  {
   "cell_type": "code",
   "execution_count": 23,
   "metadata": {},
   "outputs": [
    {
     "name": "stderr",
     "output_type": "stream",
     "text": [
      "[nltk_data] Downloading package punkt to\n",
      "[nltk_data]     C:\\Users\\Shiva\\AppData\\Roaming\\nltk_data...\n",
      "[nltk_data]   Package punkt is already up-to-date!\n"
     ]
    }
   ],
   "source": [
    "import nltk\n",
    "nltk.download('punkt')\n",
    "from nltk.tokenize import sent_tokenize\n",
    "\n",
    "with open('textfile.txt', 'r', encoding='utf-8') as file:\n",
    "    corpus = sent_tokenize(file.read())  # Split into proper sentences"
   ]
  },
  {
   "cell_type": "code",
   "execution_count": 24,
   "metadata": {},
   "outputs": [
    {
     "name": "stdout",
     "output_type": "stream",
     "text": [
      "Training on 2355 sentences...\n",
      "Processing sentence: ['the', 'tragedie', 'of', 'hamlet', 'by', 'william', 'shakespeare', '1599', 'actus', 'primus']\n"
     ]
    },
    {
     "ename": "KeyError",
     "evalue": "('the', 'tragedie')",
     "output_type": "error",
     "traceback": [
      "\u001b[1;31m---------------------------------------------------------------------------\u001b[0m",
      "\u001b[1;31mKeyError\u001b[0m                                  Traceback (most recent call last)",
      "Cell \u001b[1;32mIn[24], line 3\u001b[0m\n\u001b[0;32m      1\u001b[0m \u001b[38;5;66;03m#initialize and train model\u001b[39;00m\n\u001b[0;32m      2\u001b[0m model \u001b[38;5;241m=\u001b[39m NGramModel(n\u001b[38;5;241m=\u001b[39m\u001b[38;5;241m3\u001b[39m)\n\u001b[1;32m----> 3\u001b[0m \u001b[43mmodel\u001b[49m\u001b[38;5;241;43m.\u001b[39;49m\u001b[43mtrain\u001b[49m\u001b[43m(\u001b[49m\u001b[43mcorpus\u001b[49m\u001b[38;5;241;43m=\u001b[39;49m\u001b[43mcorpus\u001b[49m\u001b[43m)\u001b[49m\n\u001b[0;32m      5\u001b[0m \u001b[38;5;66;03m#test predictions\u001b[39;00m\n\u001b[0;32m      6\u001b[0m \u001b[38;5;28mprint\u001b[39m(model\u001b[38;5;241m.\u001b[39mpredict(\u001b[38;5;124m\"\u001b[39m\u001b[38;5;124mI enjoy\u001b[39m\u001b[38;5;124m\"\u001b[39m))\n",
      "Cell \u001b[1;32mIn[22], line 31\u001b[0m, in \u001b[0;36mNGramModel.train\u001b[1;34m(self, corpus)\u001b[0m\n\u001b[0;32m     29\u001b[0m         context \u001b[38;5;241m=\u001b[39m \u001b[38;5;28mtuple\u001b[39m(tokens[i:i\u001b[38;5;241m+\u001b[39m\u001b[38;5;28mself\u001b[39m\u001b[38;5;241m.\u001b[39mn\u001b[38;5;241m-\u001b[39m\u001b[38;5;241m1\u001b[39m])\n\u001b[0;32m     30\u001b[0m         next_word \u001b[38;5;241m=\u001b[39m tokens[i\u001b[38;5;241m+\u001b[39m\u001b[38;5;28mself\u001b[39m\u001b[38;5;241m.\u001b[39mn\u001b[38;5;241m-\u001b[39m\u001b[38;5;241m1\u001b[39m]\n\u001b[1;32m---> 31\u001b[0m         \u001b[38;5;28;43mself\u001b[39;49m\u001b[38;5;241;43m.\u001b[39;49m\u001b[43mngrams\u001b[49m\u001b[43m[\u001b[49m\u001b[43mcontext\u001b[49m\u001b[43m]\u001b[49m[next_word]\u001b[38;5;241m+\u001b[39m\u001b[38;5;241m=\u001b[39m\u001b[38;5;241m1\u001b[39m\n\u001b[0;32m     32\u001b[0m         \u001b[38;5;28mprint\u001b[39m(\u001b[38;5;124mf\u001b[39m\u001b[38;5;124m\"\u001b[39m\u001b[38;5;124mAdded n-gram: \u001b[39m\u001b[38;5;132;01m{\u001b[39;00mcontext\u001b[38;5;132;01m}\u001b[39;00m\u001b[38;5;124m -> \u001b[39m\u001b[38;5;132;01m{\u001b[39;00mnext_word\u001b[38;5;132;01m}\u001b[39;00m\u001b[38;5;124m\"\u001b[39m)  \u001b[38;5;66;03m# Debug\u001b[39;00m\n\u001b[0;32m     34\u001b[0m \u001b[38;5;66;03m#add laplace smoothing\u001b[39;00m\n",
      "\u001b[1;31mKeyError\u001b[0m: ('the', 'tragedie')"
     ]
    }
   ],
   "source": [
    "\n",
    "\n",
    "#initialize and train model\n",
    "model = NGramModel(n=3)\n",
    "model.train(corpus=corpus)\n",
    "\n",
    "#test predictions\n",
    "print(model.predict(\"I enjoy\"))\n",
    "\n",
    "print(model.predict(\"science\"))\n",
    "\n",
    "print(model.predict(\"unknown text\"))"
   ]
  },
  {
   "cell_type": "code",
   "execution_count": null,
   "metadata": {},
   "outputs": [],
   "source": [
    "# File: interface.py\n",
    "def interactive_demo(model):\n",
    "    while True:\n",
    "        user_input = input(\"\\nType your text (press 'q' to quit):\\n\")\n",
    "        if user_input.lower() == 'q':\n",
    "            break\n",
    "            \n",
    "        predictions = model.predict(user_input)\n",
    "        print(f\"Suggestions: {predictions}\")\n",
    "\n",
    "# Run the demo\n",
    "if __name__ == \"__main__\":\n",
    "    interactive_demo(model)"
   ]
  },
  {
   "cell_type": "markdown",
   "metadata": {},
   "source": [
    "save model\n"
   ]
  },
  {
   "cell_type": "code",
   "execution_count": null,
   "metadata": {},
   "outputs": [
    {
     "ename": "AttributeError",
     "evalue": "Can't pickle local object 'NGramModel.__init__.<locals>.<lambda>'",
     "output_type": "error",
     "traceback": [
      "\u001b[1;31m---------------------------------------------------------------------------\u001b[0m",
      "\u001b[1;31mAttributeError\u001b[0m                            Traceback (most recent call last)",
      "Cell \u001b[1;32mIn[20], line 5\u001b[0m\n\u001b[0;32m      3\u001b[0m \u001b[38;5;66;03m# Save\u001b[39;00m\n\u001b[0;32m      4\u001b[0m \u001b[38;5;28;01mwith\u001b[39;00m \u001b[38;5;28mopen\u001b[39m(\u001b[38;5;124m'\u001b[39m\u001b[38;5;124mmodel.pkl\u001b[39m\u001b[38;5;124m'\u001b[39m, \u001b[38;5;124m'\u001b[39m\u001b[38;5;124mwb\u001b[39m\u001b[38;5;124m'\u001b[39m) \u001b[38;5;28;01mas\u001b[39;00m f:\n\u001b[1;32m----> 5\u001b[0m     \u001b[43mpickle\u001b[49m\u001b[38;5;241;43m.\u001b[39;49m\u001b[43mdump\u001b[49m\u001b[43m(\u001b[49m\u001b[43mmodel\u001b[49m\u001b[43m,\u001b[49m\u001b[43m \u001b[49m\u001b[43mf\u001b[49m\u001b[43m)\u001b[49m\n\u001b[0;32m      7\u001b[0m \u001b[38;5;66;03m# Load\u001b[39;00m\n\u001b[0;32m      8\u001b[0m \u001b[38;5;66;03m# with open('model.pkl', 'rb') as f:\u001b[39;00m\n\u001b[0;32m      9\u001b[0m \u001b[38;5;66;03m#     loaded_model = pickle.load(f)\u001b[39;00m\n",
      "\u001b[1;31mAttributeError\u001b[0m: Can't pickle local object 'NGramModel.__init__.<locals>.<lambda>'"
     ]
    }
   ],
   "source": [
    "import pickle\n",
    "\n",
    "# Save\n",
    "with open('model.pkl', 'wb') as f:\n",
    "    pickle.dump(model, f)\n",
    "\n",
    "# Load\n",
    "# with open('model.pkl', 'rb') as f:\n",
    "#     loaded_model = pickle.load(f)"
   ]
  },
  {
   "cell_type": "code",
   "execution_count": null,
   "metadata": {},
   "outputs": [],
   "source": []
  }
 ],
 "metadata": {
  "kernelspec": {
   "display_name": "Python 3",
   "language": "python",
   "name": "python3"
  },
  "language_info": {
   "codemirror_mode": {
    "name": "ipython",
    "version": 3
   },
   "file_extension": ".py",
   "mimetype": "text/x-python",
   "name": "python",
   "nbconvert_exporter": "python",
   "pygments_lexer": "ipython3",
   "version": "3.10.0"
  }
 },
 "nbformat": 4,
 "nbformat_minor": 2
}
