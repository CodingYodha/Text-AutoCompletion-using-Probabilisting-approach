{
 "cells": [
  {
   "cell_type": "code",
   "execution_count": 1,
   "metadata": {},
   "outputs": [
    {
     "name": "stdout",
     "output_type": "stream",
     "text": [
      "['hello', 'hows', 'the', 'weather']\n"
     ]
    }
   ],
   "source": [
    "import re\n",
    "def preprocess(text):\n",
    "    text = text.lower()\n",
    "    text = re.sub(r'[^\\w\\s]', '', text) #keep words/numbers/whitespace\n",
    "    return text.split()\n",
    "\n",
    "#test preprocessing\n",
    "print(preprocess(\"Hello! How's the weather?\"))"
   ]
  },
  {
   "cell_type": "code",
   "execution_count": null,
   "metadata": {},
   "outputs": [
    {
     "name": "stdout",
     "output_type": "stream",
     "text": [
      "['hello', 'hows', 'the', 'weather']\n"
     ]
    }
   ],
   "source": [
    "import re\n",
    "from collections import defaultdict\n",
    "from preprocess import preprocess\n",
    "\n",
    "class NGramModel:\n",
    "    def __init__(self, n=3):\n",
    "        self.n = n\n",
    "        self.ngrams = defaultdict(lambda: defaultdict(int))\n",
    "        self.vocab = set()\n",
    "\n",
    "    def train(self, corpus):\n",
    "        #collect n-grams and vocabulary\n",
    "        print(f\"Training on {len(corpus)} sentences...\")\n",
    "        for sentence in corpus:\n",
    "            tokens = preprocess(sentence)\n",
    "            if not tokens:\n",
    "                continue\n",
    "            self.vocab.update(tokens)\n",
    "            print(f\"Processing sentence: {tokens}\")  # Debug\n",
    "\n",
    "            for i in range(len(tokens)-self.n+1):\n",
    "                context = tuple(tokens[i:i+self.n-1])\n",
    "                next_word = tokens[i+self.n-1]\n",
    "                self.ngrams[context][next_word]+=1\n",
    "                print(f\"Added n-gram: {context} -> {next_word}\")  # Debug\n",
    "\n",
    "        #add laplace smoothing\n",
    "        self._apply_smoothing()\n",
    "        print(f\"Vocabulary size: {len(self.vocab)}\")\n",
    "        print(f\"Total contexts: {len(self.ngrams)}\")\n",
    "\n",
    "    def _apply_smoothing(self, alpha=0.1):\n",
    "        vocab_size = len(self.vocab)\n",
    "        for context in self.ngrams:\n",
    "            total = sum(self.ngrams[context].values())+alpha*vocab_size\n",
    "            for word in self.vocab:\n",
    "                self.ngrams[context][word] = (self.ngrams[context].get(word, 0) + alpha)/total\n",
    "\n",
    "    #enhanced prediction with backoff\n",
    "    def predict(self, text, top_k=3):\n",
    "        tokens = preprocess(text)\n",
    "        print(f\"Input tokens: {tokens}\")  # Debug\n",
    "\n",
    "        # Handle context window\n",
    "        context = tuple(tokens[-(self.n-1):]) if len(tokens) >= self.n-1 else tuple(tokens)\n",
    "        print(f\"Initial context: {context}\")  # Debug\n",
    "\n",
    "\n",
    "        #backoff mechanism\n",
    "        while len(context)>0:\n",
    "            if context in self.ngrams:\n",
    "                suggestions = sorted(self.ngrams[context].items(),key=lambda x: -x[1])[:top_k]\n",
    "                return [word for word, prob in suggestions]\n",
    "            context = context[1:] if len(context) > 1 else tuple()\n",
    "        print(f\"Backing off to: {context}\")  # Debug\n",
    "        #remove oldest word for backoff\n",
    "            \n",
    "        \n",
    "        #final fallback to unigrams (most common words)\n",
    "# Final fallback to most common words\n",
    "        common_words = sorted(self.vocab, \n",
    "                            key=lambda x: sum(m[x] for m in self.ngrams.values()),\n",
    "                            reverse=True)[:top_k]\n",
    "        return common_words"
   ]
  },
  {
   "cell_type": "code",
   "execution_count": 11,
   "metadata": {},
   "outputs": [
    {
     "name": "stdout",
     "output_type": "stream",
     "text": [
      "[]\n",
      "[]\n",
      "[]\n"
     ]
    }
   ],
   "source": [
    "from ngram_model import NGramModel\n",
    "\n",
    "with open('textfile.txt', 'r', encoding='utf-8') as file:\n",
    "    corpus_text = file.read()\n",
    "\n",
    "#initialize and train model\n",
    "model = NGramModel(n=3)\n",
    "model.train(corpus=corpus_text)\n",
    "\n",
    "#test predictions\n",
    "print(model.predict(\"I enjoy\"))\n",
    "\n",
    "print(model.predict(\"science\"))\n",
    "\n",
    "print(model.predict(\"unknown text\"))"
   ]
  },
  {
   "cell_type": "code",
   "execution_count": null,
   "metadata": {},
   "outputs": [],
   "source": []
  }
 ],
 "metadata": {
  "kernelspec": {
   "display_name": "Python 3",
   "language": "python",
   "name": "python3"
  },
  "language_info": {
   "codemirror_mode": {
    "name": "ipython",
    "version": 3
   },
   "file_extension": ".py",
   "mimetype": "text/x-python",
   "name": "python",
   "nbconvert_exporter": "python",
   "pygments_lexer": "ipython3",
   "version": "3.10.0"
  }
 },
 "nbformat": 4,
 "nbformat_minor": 2
}
